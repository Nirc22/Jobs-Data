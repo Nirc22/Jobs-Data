{
  "nbformat": 4,
  "nbformat_minor": 0,
  "metadata": {
    "colab": {
      "name": "Solve - numpy_challenge.ipynb",
      "provenance": [],
      "collapsed_sections": []
    },
    "kernelspec": {
      "name": "python3",
      "display_name": "Python 3"
    }
  },
  "cells": [
    {
      "cell_type": "markdown",
      "metadata": {
        "id": "sVyBG_cKTAwL",
        "colab_type": "text"
      },
      "source": [
        "#NumPy Challenge"
      ]
    },
    {
      "cell_type": "markdown",
      "metadata": {
        "id": "NSnRQUO1RDEh",
        "colab_type": "text"
      },
      "source": [
        "Create a NumPy ndarray object by using this list of numbers [7,8,4,5,1,2].\n"
      ]
    },
    {
      "cell_type": "code",
      "metadata": {
        "id": "P-2GBUw-Q60r",
        "colab_type": "code",
        "outputId": "67d8b059-aab3-4b5c-899f-98dbd2db2f59",
        "colab": {
          "base_uri": "https://localhost:8080/",
          "height": 51
        }
      },
      "source": [
        "import numpy as np\n",
        "arr = np.array([7, 8, 4 ,5 ,1, 2])\n",
        "print(arr)\n",
        "print(type(arr))"
      ],
      "execution_count": 3,
      "outputs": [
        {
          "output_type": "stream",
          "text": [
            "[7 8 4 5 1 2]\n",
            "<class 'numpy.ndarray'>\n"
          ],
          "name": "stdout"
        }
      ]
    },
    {
      "cell_type": "markdown",
      "metadata": {
        "id": "zSoe7IVrQ9Gw",
        "colab_type": "text"
      },
      "source": [
        "Using slicing print the elements from index 3 to the end of the array.\n",
        "\n"
      ]
    },
    {
      "cell_type": "code",
      "metadata": {
        "id": "XUVmHemyRM_K",
        "colab_type": "code",
        "outputId": "65aa26e7-a57f-44aa-831d-db7d0cc273a9",
        "colab": {
          "base_uri": "https://localhost:8080/",
          "height": 34
        }
      },
      "source": [
        "print(arr[3:])"
      ],
      "execution_count": 0,
      "outputs": [
        {
          "output_type": "stream",
          "text": [
            "[5 1 2]\n"
          ],
          "name": "stdout"
        }
      ]
    },
    {
      "cell_type": "markdown",
      "metadata": {
        "id": "DejW1hk-ROcM",
        "colab_type": "text"
      },
      "source": [
        "Using slicing print all the elements except the last one.\n",
        "\n"
      ]
    },
    {
      "cell_type": "code",
      "metadata": {
        "id": "W-1sPgknSbQg",
        "colab_type": "code",
        "outputId": "7a6cb2d1-055e-4dca-8947-c08b1a7877a3",
        "colab": {
          "base_uri": "https://localhost:8080/",
          "height": 34
        }
      },
      "source": [
        "print(arr[:-1])"
      ],
      "execution_count": 0,
      "outputs": [
        {
          "output_type": "stream",
          "text": [
            "[7 8 4 5 1]\n"
          ],
          "name": "stdout"
        }
      ]
    },
    {
      "cell_type": "markdown",
      "metadata": {
        "id": "kTE3PxezRSFu",
        "colab_type": "text"
      },
      "source": [
        "Using slicing print the elements from index 1 to index 4 of the array.\n",
        "\n"
      ]
    },
    {
      "cell_type": "code",
      "metadata": {
        "id": "KyuRjCKBRWNO",
        "colab_type": "code",
        "outputId": "960abb13-12ca-4116-dcdf-1df5f1539015",
        "colab": {
          "base_uri": "https://localhost:8080/",
          "height": 34
        }
      },
      "source": [
        "print(arr[1:4])"
      ],
      "execution_count": 0,
      "outputs": [
        {
          "output_type": "stream",
          "text": [
            "[8 4 5]\n"
          ],
          "name": "stdout"
        }
      ]
    },
    {
      "cell_type": "markdown",
      "metadata": {
        "id": "HlHIAmE3RW9U",
        "colab_type": "text"
      },
      "source": [
        "Reshape the array into a 3 rows and 2 cols (3,2).\n",
        "\n"
      ]
    },
    {
      "cell_type": "code",
      "metadata": {
        "id": "Mh65VUorRZV6",
        "colab_type": "code",
        "outputId": "3f360f9c-9ed7-47e9-86b2-dec450eb41bf",
        "colab": {
          "base_uri": "https://localhost:8080/",
          "height": 51
        }
      },
      "source": [
        "arre = np.array([[7, 8], [4, 5], [1, 2]])\n",
        "print(arr)\n",
        "print(arr.ndim)"
      ],
      "execution_count": 0,
      "outputs": [
        {
          "output_type": "stream",
          "text": [
            "[7 8 4 5 1 2]\n",
            "1\n"
          ],
          "name": "stdout"
        }
      ]
    },
    {
      "cell_type": "markdown",
      "metadata": {
        "id": "7EA2AxnKRZ-B",
        "colab_type": "text"
      },
      "source": [
        "Print all the array elements one by one (iterating).\n",
        "\n"
      ]
    },
    {
      "cell_type": "code",
      "metadata": {
        "id": "NA_5SBc9SFNn",
        "colab_type": "code",
        "outputId": "c35f2931-4c2f-4df7-fe43-8736c97c2ac0",
        "colab": {
          "base_uri": "https://localhost:8080/",
          "height": 119
        }
      },
      "source": [
        "for x in arr:\n",
        "  print(x)"
      ],
      "execution_count": 0,
      "outputs": [
        {
          "output_type": "stream",
          "text": [
            "7\n",
            "8\n",
            "4\n",
            "5\n",
            "1\n",
            "2\n"
          ],
          "name": "stdout"
        }
      ]
    },
    {
      "cell_type": "markdown",
      "metadata": {
        "id": "gmDsX1y1RcsQ",
        "colab_type": "text"
      },
      "source": [
        "Create a new NumPy ndarray object by using this list of numbers [0,6,9].\n",
        "\n"
      ]
    },
    {
      "cell_type": "code",
      "metadata": {
        "id": "VmE_QUleSD_P",
        "colab_type": "code",
        "outputId": "d5a64b19-0744-4fb5-e559-5510041cacfd",
        "colab": {
          "base_uri": "https://localhost:8080/",
          "height": 34
        }
      },
      "source": [
        "arreg = np.array([0, 6, 9])\n",
        "print(arreg)"
      ],
      "execution_count": 0,
      "outputs": [
        {
          "output_type": "stream",
          "text": [
            "[0 6 9]\n"
          ],
          "name": "stdout"
        }
      ]
    },
    {
      "cell_type": "markdown",
      "metadata": {
        "id": "jloT--lqRf7j",
        "colab_type": "text"
      },
      "source": [
        "Join the two arrays.\n",
        "\n"
      ]
    },
    {
      "cell_type": "code",
      "metadata": {
        "id": "unD39X5dSDSn",
        "colab_type": "code",
        "outputId": "1f8dc323-f79b-4a0b-b281-6cb4338551a0",
        "colab": {
          "base_uri": "https://localhost:8080/",
          "height": 34
        }
      },
      "source": [
        "ar = np.concatenate((arr, arreg))\n",
        "print(ar)"
      ],
      "execution_count": 0,
      "outputs": [
        {
          "output_type": "stream",
          "text": [
            "[7 8 4 5 1 2 0 6 9]\n"
          ],
          "name": "stdout"
        }
      ]
    },
    {
      "cell_type": "markdown",
      "metadata": {
        "id": "XfoeRhPERjPR",
        "colab_type": "text"
      },
      "source": [
        "Using filtering print only the odd numbers of the joined array.\n",
        "\n"
      ]
    },
    {
      "cell_type": "code",
      "metadata": {
        "id": "Be-oEmWNSCKG",
        "colab_type": "code",
        "outputId": "9fd18b85-3159-4f2f-ec47-23309b7bf0a9",
        "colab": {
          "base_uri": "https://localhost:8080/",
          "height": 51
        }
      },
      "source": [
        "filter_ar = ar % 2 == 1\n",
        "\n",
        "newar = ar[filter_ar]\n",
        "\n",
        "print(filter_ar)\n",
        "print(newar)"
      ],
      "execution_count": 0,
      "outputs": [
        {
          "output_type": "stream",
          "text": [
            "[ True False False  True  True False False False  True]\n",
            "[7 5 1 9]\n"
          ],
          "name": "stdout"
        }
      ]
    },
    {
      "cell_type": "markdown",
      "metadata": {
        "id": "cMZHbF4JRlwJ",
        "colab_type": "text"
      },
      "source": [
        "Sort the joined array elements.\n",
        "\n"
      ]
    },
    {
      "cell_type": "code",
      "metadata": {
        "id": "d3ta_UTjSBb3",
        "colab_type": "code",
        "outputId": "983db229-61a7-4562-bd49-7808f0a86614",
        "colab": {
          "base_uri": "https://localhost:8080/",
          "height": 34
        }
      },
      "source": [
        "print(np.sort(ar))"
      ],
      "execution_count": 0,
      "outputs": [
        {
          "output_type": "stream",
          "text": [
            "[0 1 2 4 5 6 7 8 9]\n"
          ],
          "name": "stdout"
        }
      ]
    },
    {
      "cell_type": "markdown",
      "metadata": {
        "id": "F0u9Tf_pRoKR",
        "colab_type": "text"
      },
      "source": [
        "Store in an array the names of the months.\n",
        "\n"
      ]
    },
    {
      "cell_type": "code",
      "metadata": {
        "id": "a6trOwrmSAg6",
        "colab_type": "code",
        "colab": {}
      },
      "source": [
        "months = np.array(['January', 'Frebruary', 'March', 'April', 'May', 'June', 'July', 'August', 'September', 'October', 'November', 'December'])"
      ],
      "execution_count": 0,
      "outputs": []
    },
    {
      "cell_type": "markdown",
      "metadata": {
        "id": "zMHje9-zRqrR",
        "colab_type": "text"
      },
      "source": [
        "Split the months array in 4 periods of 3 elements each one.\n",
        "\n"
      ]
    },
    {
      "cell_type": "code",
      "metadata": {
        "id": "jht0_5-iR_xn",
        "colab_type": "code",
        "outputId": "1ea15f68-a27d-4004-bcec-baac482eb4c1",
        "colab": {
          "base_uri": "https://localhost:8080/",
          "height": 54
        }
      },
      "source": [
        "months2 = np.array_split(months, 4)\n",
        "print(months2)"
      ],
      "execution_count": 14,
      "outputs": [
        {
          "output_type": "stream",
          "text": [
            "[array(['January', 'Frebruary', 'March'], dtype='<U9'), array(['April', 'May', 'June'], dtype='<U9'), array(['July', 'August', 'September'], dtype='<U9'), array(['October', 'November', 'December'], dtype='<U9')]\n"
          ],
          "name": "stdout"
        }
      ]
    },
    {
      "cell_type": "markdown",
      "metadata": {
        "id": "ukxoOg5rRtkJ",
        "colab_type": "text"
      },
      "source": [
        "Create an array with genre information ['F','M','F','F','M','F'].\n",
        "\n"
      ]
    },
    {
      "cell_type": "code",
      "metadata": {
        "id": "GZLCMD2OR-4G",
        "colab_type": "code",
        "colab": {}
      },
      "source": [
        "genre = np.array(['F', 'M', 'F', 'F', 'M', 'F'])"
      ],
      "execution_count": 0,
      "outputs": []
    },
    {
      "cell_type": "markdown",
      "metadata": {
        "id": "VlLwuy-ERvzu",
        "colab_type": "text"
      },
      "source": [
        "Find the indexes where the value is F.\n",
        "\n"
      ]
    },
    {
      "cell_type": "code",
      "metadata": {
        "id": "dx0LCoSAR9-w",
        "colab_type": "code",
        "colab": {
          "base_uri": "https://localhost:8080/",
          "height": 34
        },
        "outputId": "30bcaf71-2aa0-4183-d597-d59f85d4f10d"
      },
      "source": [
        "genre2 = np.where(genre == 'F')\n",
        "print(genre2)"
      ],
      "execution_count": 14,
      "outputs": [
        {
          "output_type": "stream",
          "text": [
            "(array([0, 2, 3, 5]),)\n"
          ],
          "name": "stdout"
        }
      ]
    },
    {
      "cell_type": "markdown",
      "metadata": {
        "id": "y0Uk475sRytB",
        "colab_type": "text"
      },
      "source": [
        "Store in an array the age information [18,20,19,23,19,20].\n",
        "\n"
      ]
    },
    {
      "cell_type": "code",
      "metadata": {
        "id": "tABLVP7gR9QP",
        "colab_type": "code",
        "colab": {}
      },
      "source": [
        "age = np.array([18, 20, 19, 23, 19,20])"
      ],
      "execution_count": 0,
      "outputs": []
    },
    {
      "cell_type": "markdown",
      "metadata": {
        "id": "D-VswLqJR05A",
        "colab_type": "text"
      },
      "source": [
        "Create a filter array with values < 20.\n",
        "\n"
      ]
    },
    {
      "cell_type": "code",
      "metadata": {
        "id": "tk4jIi3pR8aZ",
        "colab_type": "code",
        "colab": {
          "base_uri": "https://localhost:8080/",
          "height": 51
        },
        "outputId": "21161e0f-4641-4a05-925d-f81d087176c6"
      },
      "source": [
        "filter_age = age < 20\n",
        "\n",
        "newage = age[filter_age]\n",
        "\n",
        "print(filter_age)\n",
        "print(newage)"
      ],
      "execution_count": 20,
      "outputs": [
        {
          "output_type": "stream",
          "text": [
            "[ True False  True False  True False]\n",
            "[18 19 19]\n"
          ],
          "name": "stdout"
        }
      ]
    },
    {
      "cell_type": "markdown",
      "metadata": {
        "id": "aiGbZbwHR3CJ",
        "colab_type": "text"
      },
      "source": [
        "Change the 3 index element with a value of 22\n",
        "\n"
      ]
    },
    {
      "cell_type": "code",
      "metadata": {
        "id": "OMpH-wT6R7iK",
        "colab_type": "code",
        "colab": {
          "base_uri": "https://localhost:8080/",
          "height": 34
        },
        "outputId": "bfb968eb-7d15-4dad-84b2-3c557ad82d2c"
      },
      "source": [
        "age[3]=22\n",
        "print(age)"
      ],
      "execution_count": 25,
      "outputs": [
        {
          "output_type": "stream",
          "text": [
            "[18 20 19 22 19 20]\n"
          ],
          "name": "stdout"
        }
      ]
    },
    {
      "cell_type": "markdown",
      "metadata": {
        "id": "0DELnRV_R5Df",
        "colab_type": "text"
      },
      "source": [
        "Print the 4 index element."
      ]
    },
    {
      "cell_type": "code",
      "metadata": {
        "id": "SOg99cxZR6ZX",
        "colab_type": "code",
        "colab": {
          "base_uri": "https://localhost:8080/",
          "height": 34
        },
        "outputId": "84745eff-0f81-4ffd-cb2a-2eab7c3032ce"
      },
      "source": [
        "print(age[4])"
      ],
      "execution_count": 24,
      "outputs": [
        {
          "output_type": "stream",
          "text": [
            "19\n"
          ],
          "name": "stdout"
        }
      ]
    }
  ]
}